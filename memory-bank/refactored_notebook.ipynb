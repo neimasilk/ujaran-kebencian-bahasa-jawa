{
 "cells": [
  {
   "cell_type": "markdown",
   "metadata": {},
   "source": [
    "# Notebook Refactored untuk Deteksi Ujaran Kebencian Bahasa Jawa\n",
    "\n",
    "Notebook ini menggunakan utilitas dari `data_utils.py` dan `train_utils.py` untuk menjalankan alur kerja machine learning."
   ]
  },
  {
   "cell_type": "markdown",
   "metadata": {},
   "source": [
    "## 1. Setup dan Import Library"
   ]
  },
  {
   "cell_type": "code",
   "execution_count": null,
   "metadata": {},
   "outputs": [],
   "source": [
    "import pandas as pd\n",
    "import sys\n",
    "import os\n",
    "\n",
    "# Menambahkan direktori root proyek ke sys.path agar bisa mengimpor dari src/\n",
    "# Asumsi notebook ini berada di memory-bank/, sehingga ../ mengarah ke root proyek.\n",
    "project_root = os.path.abspath(os.path.join(os.getcwd(), '..'))\n",
    "if project_root not in sys.path:\n",
    "    sys.path.insert(0, project_root)\n",
    "    print(f\"Ditambahkan ke sys.path: {project_root}\")\n",
    "\n",
    "try:\n",
    "    from src.utils.data_utils import load_data_from_csv, preprocess_data\n",
    "    from src.modelling.train_utils import split_data, train_model, evaluate_model, save_model\n",
    "    print(\"Utilitas berhasil diimpor dari src/utils dan src/modelling.\")\n",
    "except ImportError as e:\n",
    "    print(f\"Error saat impor utilitas: {e}\")\n",
    "    print(\"Pastikan struktur folder sudah benar dan notebook dijalankan dari direktori 'memory-bank' atau root proyek.\")\n",
    "    print(f\"Current sys.path: {sys.path}\")\n",
    "    print(f\"Current working directory: {os.getcwd()}\")"
   ]
  },
  {
   "cell_type": "markdown",
   "metadata": {},
   "source": [
    "## 2. Memuat dan Melakukan Pra-pemrosesan Data\n",
    "\n",
    "Kita akan memuat data dari file CSV yang sudah ada sebagai contoh. Dalam implementasi penuh, ini bisa diganti dengan pemanggilan `load_data_from_google_sheets`."
   ]
  },
  {
   "cell_type": "code",
   "execution_count": null,
   "metadata": {},
   "outputs": [],
   "source": [
    "# Path ke dataset CSV (relatif terhadap root proyek, atau lokasi notebook jika path disesuaikan)\n",
    "# Jika notebook ini berada di dalam 'memory-bank/', dan CSV di 'src/data_collection/'\n",
    "# maka pathnya adalah '../src/data_collection/raw-dataset.csv'\n",
    "# Jika CSV sudah dipindah ke 'data/raw/' dan notebook di 'memory-bank/', pathnya '../data/raw/raw-dataset.csv'\n",
    "# Untuk pengujian awal, asumsikan CSV berada di path yang dapat dijangkau dari root proyek\n",
    "csv_path = '../src/data_collection/raw-dataset.csv' # Sesuaikan jika perlu\n",
    "\n",
    "raw_df = load_data_from_csv(csv_path)\n",
    "\n",
    "if raw_df is not None:\n",
    "    print(f\"\\nData mentah berhasil dimuat. Jumlah baris: {len(raw_df)}\")\n",
    "    display(raw_df.head())\n",
    "    \n",
    "    # Pra-pemrosesan data\n",
    "    # Kolom teks diasumsikan bernama 'review' dan label 'sentiment'\n",
    "    processed_df = preprocess_data(raw_df.copy(), text_column='review')\n",
    "    \n",
    "    if processed_df is not None and not processed_df.empty:\n",
    "        print(f\"\\nData setelah pra-pemrosesan. Jumlah baris: {len(processed_df)}\")\n",
    "        display(processed_df.head())\n",
    "    else:\n",
    "        print(\"Pra-pemrosesan gagal atau menghasilkan DataFrame kosong.\")\n",
    "else:\n",
    "    print(\"Gagal memuat data mentah.\")"
   ]
  },
  {
   "cell_type": "markdown",
   "metadata": {},
   "source": [
    "## 3. Pembagian Data (Train-Validation Split)\n",
    "\n",
    "Fungsi `split_data` dari `train_utils.py` akan digunakan di sini. Untuk saat ini, ia menggunakan placeholder."
   ]
  },
  {
   "cell_type": "code",
   "execution_count": null,
   "metadata": {},
   "outputs": [],
   "source": [
    "if 'processed_df' in locals() and processed_df is not None and not processed_df.empty:\n",
    "    # Pastikan kolom label ada. Jika tidak, bagian ini akan error atau perlu disesuaikan.\n",
    "    # Untuk data dummy dari train_utils, labelnya 'sentiment'. Untuk raw-dataset.csv juga 'sentiment'.\n",
    "    train_df, val_df = split_data(processed_df, label_column='sentiment', test_size=0.2)\n",
    "    \n",
    "    if train_df is not None and val_df is not None:\n",
    "        print(f\"\\nData berhasil dibagi:\")\n",
    "        print(f\"Jumlah data latih: {len(train_df)}\")\n",
    "        print(f\"Jumlah data validasi: {len(val_df)}\")\n",
    "        \n",
    "        # Misal kita ingin memisahkan teks dan label untuk fungsi pelatihan placeholder\n",
    "        # (Implementasi sebenarnya mungkin berbeda tergantung library ML)\n",
    "        X_train_texts = train_df['review']\n",
    "        y_train_labels = train_df['sentiment'] \n",
    "        # TODO: Label perlu di-encode ke format numerik jika belum (misal, negative=0, positive=1, dll.)\n",
    "        # Untuk placeholder train_model, kita asumsikan label sudah numerik atau akan ditangani di sana.\n",
    "\n",
    "        X_val_texts = val_df['review']\n",
    "        y_val_labels = val_df['sentiment']\n",
    "        # TODO: Encode label validasi juga\n",
    "        \n",
    "        print(\"\\nContoh data latih (teks pertama):\")\n",
    "        display(X_train_texts.head(1))\n",
    "        print(\"Contoh label latih (label pertama):\")\n",
    "        display(y_train_labels.head(1))\n",
    "    else:\n",
    "        print(\"Pembagian data gagal.\")\n",
    "else:\n",
    "    print(\"Tidak ada processed_df untuk dibagi. Jalankan sel sebelumnya.\")"
   ]
  },
  {
   "cell_type": "markdown",
   "metadata": {},
   "source": [
    "## 4. Pelatihan Model\n",
    "\n",
    "Menggunakan fungsi `train_model` placeholder."
   ]
  },
  {
   "cell_type": "code",
   "execution_count": null,
   "metadata": {},
   "outputs": [],
   "source": [
    "if 'X_train_texts' in locals():\n",
    "    # Asumsi label sudah di-encode ke integer untuk model klasifikasi\n",
    "    # Ini adalah langkah penting yang perlu dilakukan sebelum pelatihan sebenarnya\n",
    "    # Contoh encoding sederhana (jika labelnya 'negative', 'positive'):\n",
    "    # label_map = {'negative': 0, 'positive': 1} # ...tambahkan kategori lain jika ada\n",
    "    # y_train_labels_encoded = y_train_labels.map(label_map).fillna(-1) # Ganti NaN jika ada\n",
    "    # y_val_labels_encoded = y_val_labels.map(label_map).fillna(-1)\n",
    "    \n",
    "    # Untuk placeholder, kita teruskan saja. Implementasi train_model sebenarnya akan menangani ini.\n",
    "    trained_model_placeholder = train_model(X_train_texts, y_train_labels)\n",
    "    print(f\"\\nModel (placeholder) selesai dilatih: {trained_model_placeholder}\")\n",
    "else:\n",
    "    print(\"Data latih belum tersedia. Jalankan sel sebelumnya.\")"
   ]
  },
  {
   "cell_type": "markdown",
   "metadata": {},
   "source": [
    "## 5. Evaluasi Model\n",
    "\n",
    "Menggunakan fungsi `evaluate_model` placeholder."
   ]
  },
  {
   "cell_type": "code",
   "execution_count": null,
   "metadata": {},
   "outputs": [],
   "source": [
    "if 'trained_model_placeholder' in locals() and 'X_val_texts' in locals():\n",
    "    # Mirip dengan pelatihan, label validasi juga perlu di-encode\n",
    "    evaluation_results_placeholder = evaluate_model(trained_model_placeholder, X_val_texts, y_val_labels)\n",
    "    print(f\"\\nHasil evaluasi (placeholder):\")\n",
    "    for metric, value in evaluation_results_placeholder.items():\n",
    "        print(f\"{metric}: {value}\")\n",
    "else:\n",
    "    print(\"Model atau data validasi belum tersedia. Jalankan sel sebelumnya.\")"
   ]
  },
  {
   "cell_type": "markdown",
   "metadata": {},
   "source": [
    "## 6. Penyimpanan Model (Contoh)\n",
    "\n",
    "Menggunakan fungsi `save_model` placeholder."
   ]
  },
  {
   "cell_type": "code",
   "execution_count": null,
   "metadata": {},
   "outputs": [],
   "source": [
    "if 'trained_model_placeholder' in locals():\n",
    "    # Pastikan direktori 'models/' ada di root proyek jika ingin menyimpan di sana\n",
    "    # Jika notebook ini di memory-bank/, path relatifnya '../models/'\n",
    "    import os\n",
    "    model_dir = '../models' # Relatif dari memory-bank/\n",
    "    if not os.path.exists(model_dir):\n",
    "        os.makedirs(model_dir)\n",
    "        print(f\"Direktori {model_dir} dibuat.\")\n",
    "        \n",
    "    save_model(trained_model_placeholder, path=os.path.join(model_dir, \"dummy_model_refactored.pt\"))\n",
    "else:\n",
    "    print(\"Model belum dilatih untuk disimpan.\")"
   ]
  },
  {
   "cell_type": "markdown",
   "metadata": {},
   "source": [
    "## Kesimpulan Placeholder\n",
    "\n",
    "Notebook ini mendemonstrasikan alur kerja dasar menggunakan fungsi-fungsi utilitas yang telah dibuat. Implementasi penuh dari fungsi-fungsi di `data_utils.py` (terutama `load_data_from_google_sheets`) dan `train_utils.py` (pelatihan dan evaluasi model BERT sebenarnya) akan menggantikan placeholder saat ini untuk fungsionalitas penuh."
   ]
  }
 ],
 "metadata": {
  "kernelspec": {
   "display_name": "Python 3 (ipykernel)",
   "language": "python",
   "name": "python3"
  },
  "language_info": {
   "codemirror_mode": {
    "name": "ipython",
    "version": 3
   },
   "file_extension": ".py",
   "mimetype": "text/x-python",
   "name": "python",
   "nbconvert_exporter": "python",
   "pygments_lexer": "ipython3",
   "version": "3.11.6"
  }
 },
 "nbformat": 4,
 "nbformat_minor": 5
}
